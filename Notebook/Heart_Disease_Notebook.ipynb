{
 "cells": [
  {
   "cell_type": "markdown",
   "metadata": {},
   "source": [
    "## Importing the libraries"
   ]
  },
  {
   "cell_type": "code",
   "execution_count": 1,
   "metadata": {},
   "outputs": [],
   "source": [
    "import numpy as np\n",
    "import pandas as pd\n",
    "import seaborn as sns\n",
    "import matplotlib.pyplot as plt\n",
    "%matplotlib inline"
   ]
  },
  {
   "cell_type": "markdown",
   "metadata": {},
   "source": [
    "## Loading the data"
   ]
  },
  {
   "cell_type": "code",
   "execution_count": 2,
   "metadata": {},
   "outputs": [
    {
     "data": {
      "text/html": [
       "<div>\n",
       "<style scoped>\n",
       "    .dataframe tbody tr th:only-of-type {\n",
       "        vertical-align: middle;\n",
       "    }\n",
       "\n",
       "    .dataframe tbody tr th {\n",
       "        vertical-align: top;\n",
       "    }\n",
       "\n",
       "    .dataframe thead th {\n",
       "        text-align: right;\n",
       "    }\n",
       "</style>\n",
       "<table border=\"1\" class=\"dataframe\">\n",
       "  <thead>\n",
       "    <tr style=\"text-align: right;\">\n",
       "      <th></th>\n",
       "      <th>age</th>\n",
       "      <th>sex</th>\n",
       "      <th>cp</th>\n",
       "      <th>trestbps</th>\n",
       "      <th>chol</th>\n",
       "      <th>fbs</th>\n",
       "      <th>restecg</th>\n",
       "      <th>thalach</th>\n",
       "      <th>exang</th>\n",
       "      <th>oldpeak</th>\n",
       "      <th>slope</th>\n",
       "      <th>ca</th>\n",
       "      <th>thal</th>\n",
       "      <th>target</th>\n",
       "    </tr>\n",
       "  </thead>\n",
       "  <tbody>\n",
       "    <tr>\n",
       "      <th>0</th>\n",
       "      <td>63</td>\n",
       "      <td>1</td>\n",
       "      <td>3</td>\n",
       "      <td>145</td>\n",
       "      <td>233</td>\n",
       "      <td>1</td>\n",
       "      <td>0</td>\n",
       "      <td>150</td>\n",
       "      <td>0</td>\n",
       "      <td>2.3</td>\n",
       "      <td>0</td>\n",
       "      <td>0</td>\n",
       "      <td>1</td>\n",
       "      <td>1</td>\n",
       "    </tr>\n",
       "    <tr>\n",
       "      <th>1</th>\n",
       "      <td>37</td>\n",
       "      <td>1</td>\n",
       "      <td>2</td>\n",
       "      <td>130</td>\n",
       "      <td>250</td>\n",
       "      <td>0</td>\n",
       "      <td>1</td>\n",
       "      <td>187</td>\n",
       "      <td>0</td>\n",
       "      <td>3.5</td>\n",
       "      <td>0</td>\n",
       "      <td>0</td>\n",
       "      <td>2</td>\n",
       "      <td>1</td>\n",
       "    </tr>\n",
       "    <tr>\n",
       "      <th>2</th>\n",
       "      <td>41</td>\n",
       "      <td>0</td>\n",
       "      <td>1</td>\n",
       "      <td>130</td>\n",
       "      <td>204</td>\n",
       "      <td>0</td>\n",
       "      <td>0</td>\n",
       "      <td>172</td>\n",
       "      <td>0</td>\n",
       "      <td>1.4</td>\n",
       "      <td>2</td>\n",
       "      <td>0</td>\n",
       "      <td>2</td>\n",
       "      <td>1</td>\n",
       "    </tr>\n",
       "    <tr>\n",
       "      <th>3</th>\n",
       "      <td>56</td>\n",
       "      <td>1</td>\n",
       "      <td>1</td>\n",
       "      <td>120</td>\n",
       "      <td>236</td>\n",
       "      <td>0</td>\n",
       "      <td>1</td>\n",
       "      <td>178</td>\n",
       "      <td>0</td>\n",
       "      <td>0.8</td>\n",
       "      <td>2</td>\n",
       "      <td>0</td>\n",
       "      <td>2</td>\n",
       "      <td>1</td>\n",
       "    </tr>\n",
       "    <tr>\n",
       "      <th>4</th>\n",
       "      <td>57</td>\n",
       "      <td>0</td>\n",
       "      <td>0</td>\n",
       "      <td>120</td>\n",
       "      <td>354</td>\n",
       "      <td>0</td>\n",
       "      <td>1</td>\n",
       "      <td>163</td>\n",
       "      <td>1</td>\n",
       "      <td>0.6</td>\n",
       "      <td>2</td>\n",
       "      <td>0</td>\n",
       "      <td>2</td>\n",
       "      <td>1</td>\n",
       "    </tr>\n",
       "  </tbody>\n",
       "</table>\n",
       "</div>"
      ],
      "text/plain": [
       "   age  sex  cp  trestbps  chol  fbs  restecg  thalach  exang  oldpeak  slope  \\\n",
       "0   63    1   3       145   233    1        0      150      0      2.3      0   \n",
       "1   37    1   2       130   250    0        1      187      0      3.5      0   \n",
       "2   41    0   1       130   204    0        0      172      0      1.4      2   \n",
       "3   56    1   1       120   236    0        1      178      0      0.8      2   \n",
       "4   57    0   0       120   354    0        1      163      1      0.6      2   \n",
       "\n",
       "   ca  thal  target  \n",
       "0   0     1       1  \n",
       "1   0     2       1  \n",
       "2   0     2       1  \n",
       "3   0     2       1  \n",
       "4   0     2       1  "
      ]
     },
     "execution_count": 2,
     "metadata": {},
     "output_type": "execute_result"
    }
   ],
   "source": [
    "Heart_Disease_Dataset = pd.read_csv(\"C:/Users/parth/OneDrive/Desktop/Heart_Disease_Prediction/Dataset/Dataset.csv\")\n",
    "Heart_Disease_Dataset.head()"
   ]
  },
  {
   "cell_type": "markdown",
   "metadata": {},
   "source": [
    "#  Exploratory Data Analysis (EDA) \n",
    "Goal is to learn more about the data and become an export topic in the dataset working with.\n"
   ]
  },
  {
   "cell_type": "code",
   "execution_count": 3,
   "metadata": {
    "scrolled": true
   },
   "outputs": [
    {
     "data": {
      "text/html": [
       "<div>\n",
       "<style scoped>\n",
       "    .dataframe tbody tr th:only-of-type {\n",
       "        vertical-align: middle;\n",
       "    }\n",
       "\n",
       "    .dataframe tbody tr th {\n",
       "        vertical-align: top;\n",
       "    }\n",
       "\n",
       "    .dataframe thead th {\n",
       "        text-align: right;\n",
       "    }\n",
       "</style>\n",
       "<table border=\"1\" class=\"dataframe\">\n",
       "  <thead>\n",
       "    <tr style=\"text-align: right;\">\n",
       "      <th></th>\n",
       "      <th>age</th>\n",
       "      <th>sex</th>\n",
       "      <th>cp</th>\n",
       "      <th>trestbps</th>\n",
       "      <th>chol</th>\n",
       "      <th>fbs</th>\n",
       "      <th>restecg</th>\n",
       "      <th>thalach</th>\n",
       "      <th>exang</th>\n",
       "      <th>oldpeak</th>\n",
       "      <th>slope</th>\n",
       "      <th>ca</th>\n",
       "      <th>thal</th>\n",
       "      <th>target</th>\n",
       "    </tr>\n",
       "  </thead>\n",
       "  <tbody>\n",
       "    <tr>\n",
       "      <th>count</th>\n",
       "      <td>605.00</td>\n",
       "      <td>605.00</td>\n",
       "      <td>605.00</td>\n",
       "      <td>605.00</td>\n",
       "      <td>605.00</td>\n",
       "      <td>605.00</td>\n",
       "      <td>605.00</td>\n",
       "      <td>605.00</td>\n",
       "      <td>605.00</td>\n",
       "      <td>605.00</td>\n",
       "      <td>605.00</td>\n",
       "      <td>605.00</td>\n",
       "      <td>605.00</td>\n",
       "      <td>605.00</td>\n",
       "    </tr>\n",
       "    <tr>\n",
       "      <th>mean</th>\n",
       "      <td>54.36</td>\n",
       "      <td>0.68</td>\n",
       "      <td>0.97</td>\n",
       "      <td>131.63</td>\n",
       "      <td>246.28</td>\n",
       "      <td>0.15</td>\n",
       "      <td>0.53</td>\n",
       "      <td>149.61</td>\n",
       "      <td>0.33</td>\n",
       "      <td>1.04</td>\n",
       "      <td>1.40</td>\n",
       "      <td>0.73</td>\n",
       "      <td>2.31</td>\n",
       "      <td>0.55</td>\n",
       "    </tr>\n",
       "    <tr>\n",
       "      <th>std</th>\n",
       "      <td>9.08</td>\n",
       "      <td>0.47</td>\n",
       "      <td>1.03</td>\n",
       "      <td>17.54</td>\n",
       "      <td>51.83</td>\n",
       "      <td>0.36</td>\n",
       "      <td>0.53</td>\n",
       "      <td>22.88</td>\n",
       "      <td>0.47</td>\n",
       "      <td>1.16</td>\n",
       "      <td>0.62</td>\n",
       "      <td>1.02</td>\n",
       "      <td>0.61</td>\n",
       "      <td>0.50</td>\n",
       "    </tr>\n",
       "    <tr>\n",
       "      <th>min</th>\n",
       "      <td>29.00</td>\n",
       "      <td>0.00</td>\n",
       "      <td>0.00</td>\n",
       "      <td>94.00</td>\n",
       "      <td>126.00</td>\n",
       "      <td>0.00</td>\n",
       "      <td>0.00</td>\n",
       "      <td>71.00</td>\n",
       "      <td>0.00</td>\n",
       "      <td>0.00</td>\n",
       "      <td>0.00</td>\n",
       "      <td>0.00</td>\n",
       "      <td>0.00</td>\n",
       "      <td>0.00</td>\n",
       "    </tr>\n",
       "    <tr>\n",
       "      <th>25%</th>\n",
       "      <td>47.00</td>\n",
       "      <td>0.00</td>\n",
       "      <td>0.00</td>\n",
       "      <td>120.00</td>\n",
       "      <td>211.00</td>\n",
       "      <td>0.00</td>\n",
       "      <td>0.00</td>\n",
       "      <td>133.00</td>\n",
       "      <td>0.00</td>\n",
       "      <td>0.00</td>\n",
       "      <td>1.00</td>\n",
       "      <td>0.00</td>\n",
       "      <td>2.00</td>\n",
       "      <td>0.00</td>\n",
       "    </tr>\n",
       "    <tr>\n",
       "      <th>50%</th>\n",
       "      <td>55.00</td>\n",
       "      <td>1.00</td>\n",
       "      <td>1.00</td>\n",
       "      <td>130.00</td>\n",
       "      <td>240.00</td>\n",
       "      <td>0.00</td>\n",
       "      <td>1.00</td>\n",
       "      <td>153.00</td>\n",
       "      <td>0.00</td>\n",
       "      <td>0.80</td>\n",
       "      <td>1.00</td>\n",
       "      <td>0.00</td>\n",
       "      <td>2.00</td>\n",
       "      <td>1.00</td>\n",
       "    </tr>\n",
       "    <tr>\n",
       "      <th>75%</th>\n",
       "      <td>61.00</td>\n",
       "      <td>1.00</td>\n",
       "      <td>2.00</td>\n",
       "      <td>140.00</td>\n",
       "      <td>275.00</td>\n",
       "      <td>0.00</td>\n",
       "      <td>1.00</td>\n",
       "      <td>166.00</td>\n",
       "      <td>1.00</td>\n",
       "      <td>1.60</td>\n",
       "      <td>2.00</td>\n",
       "      <td>1.00</td>\n",
       "      <td>3.00</td>\n",
       "      <td>1.00</td>\n",
       "    </tr>\n",
       "    <tr>\n",
       "      <th>max</th>\n",
       "      <td>77.00</td>\n",
       "      <td>1.00</td>\n",
       "      <td>3.00</td>\n",
       "      <td>200.00</td>\n",
       "      <td>564.00</td>\n",
       "      <td>1.00</td>\n",
       "      <td>2.00</td>\n",
       "      <td>202.00</td>\n",
       "      <td>1.00</td>\n",
       "      <td>6.20</td>\n",
       "      <td>2.00</td>\n",
       "      <td>4.00</td>\n",
       "      <td>3.00</td>\n",
       "      <td>1.00</td>\n",
       "    </tr>\n",
       "  </tbody>\n",
       "</table>\n",
       "</div>"
      ],
      "text/plain": [
       "         age    sex     cp  trestbps   chol    fbs  restecg  thalach  exang  \\\n",
       "count 605.00 605.00 605.00    605.00 605.00 605.00   605.00   605.00 605.00   \n",
       "mean   54.36   0.68   0.97    131.63 246.28   0.15     0.53   149.61   0.33   \n",
       "std     9.08   0.47   1.03     17.54  51.83   0.36     0.53    22.88   0.47   \n",
       "min    29.00   0.00   0.00     94.00 126.00   0.00     0.00    71.00   0.00   \n",
       "25%    47.00   0.00   0.00    120.00 211.00   0.00     0.00   133.00   0.00   \n",
       "50%    55.00   1.00   1.00    130.00 240.00   0.00     1.00   153.00   0.00   \n",
       "75%    61.00   1.00   2.00    140.00 275.00   0.00     1.00   166.00   1.00   \n",
       "max    77.00   1.00   3.00    200.00 564.00   1.00     2.00   202.00   1.00   \n",
       "\n",
       "       oldpeak  slope     ca   thal  target  \n",
       "count   605.00 605.00 605.00 605.00  605.00  \n",
       "mean      1.04   1.40   0.73   2.31    0.55  \n",
       "std       1.16   0.62   1.02   0.61    0.50  \n",
       "min       0.00   0.00   0.00   0.00    0.00  \n",
       "25%       0.00   1.00   0.00   2.00    0.00  \n",
       "50%       0.80   1.00   0.00   2.00    1.00  \n",
       "75%       1.60   2.00   1.00   3.00    1.00  \n",
       "max       6.20   2.00   4.00   3.00    1.00  "
      ]
     },
     "execution_count": 3,
     "metadata": {},
     "output_type": "execute_result"
    }
   ],
   "source": [
    "pd.set_option(\"display.float\", \"{:.2f}\".format)\n",
    "Heart_Disease_Dataset.describe()"
   ]
  },
  {
   "cell_type": "code",
   "execution_count": null,
   "metadata": {},
   "outputs": [],
   "source": []
  },
  {
   "cell_type": "code",
   "execution_count": 4,
   "metadata": {},
   "outputs": [
    {
     "data": {
      "text/plain": [
       "<AxesSubplot:>"
      ]
     },
     "execution_count": 4,
     "metadata": {},
     "output_type": "execute_result"
    },
    {
     "data": {
      "image/png": "[encoded data removed]",
      "text/plain": [
       "<Figure size 432x288 with 1 Axes>"
      ]
     },
     "metadata": {
      "needs_background": "light"
     },
     "output_type": "display_data"
    }
   ],
   "source": [
    "Heart_Disease_Dataset.target.value_counts().plot(kind=\"bar\", color=[\"salmon\", \"lightblue\"])"
   ]
  },
  {
   "cell_type": "markdown",
   "metadata": {},
   "source": []
  },
  {
   "cell_type": "code",
   "execution_count": 5,
   "metadata": {},
   "outputs": [
    {
     "data": {
      "text/plain": [
       "age         0\n",
       "sex         0\n",
       "cp          0\n",
       "trestbps    0\n",
       "chol        0\n",
       "fbs         0\n",
       "restecg     0\n",
       "thalach     0\n",
       "exang       0\n",
       "oldpeak     0\n",
       "slope       0\n",
       "ca          0\n",
       "thal        0\n",
       "target      0\n",
       "dtype: int64"
      ]
     },
     "execution_count": 5,
     "metadata": {},
     "output_type": "execute_result"
    }
   ],
   "source": [
    "# Checking for messing values\n",
    "Heart_Disease_Dataset.isna().sum()"
   ]
  },
  {
   "cell_type": "markdown",
   "metadata": {},
   "source": [
    "Looks like the perfect dataset!!! No null values :-)"
   ]
  },
  {
   "cell_type": "code",
   "execution_count": 6,
   "metadata": {},
   "outputs": [],
   "source": [
    "All_Categorical_Value = []\n",
    "All_Continous_Values = []"
   ]
  },
  {
   "cell_type": "code",
   "execution_count": 7,
   "metadata": {
    "scrolled": true
   },
   "outputs": [
    {
     "name": "stdout",
     "output_type": "stream",
     "text": [
      "\n",
      "\n",
      "****************************************\n",
      "Looking for age Column >> [63 37 41 56 57 44 52 54 48 49 64 58 50 66 43 69 59 42 61 40 71 51 65 53\n",
      " 46 45 39 47 62 34 35 29 55 60 67 68 74 76 70 38 77]\n",
      "\n",
      "\n",
      "****************************************\n",
      "Looking for sex Column >> [1 0]\n",
      "\n",
      "\n",
      "****************************************\n",
      "Looking for cp Column >> [3 2 1 0]\n",
      "\n",
      "\n",
      "****************************************\n",
      "Looking for trestbps Column >> [145 130 120 140 172 150 110 135 160 105 125 142 155 104 138 128 108 134\n",
      " 122 115 118 100 124  94 112 102 152 101 132 148 178 129 180 136 126 106\n",
      " 156 170 146 117 200 165 174 192 144 123 154 114 164]\n",
      "\n",
      "\n",
      "****************************************\n",
      "Looking for chol Column >> [233 250 204 236 354 192 294 263 199 168 239 275 266 211 283 219 340 226\n",
      " 247 234 243 302 212 175 417 197 198 177 273 213 304 232 269 360 308 245\n",
      " 208 264 321 325 235 257 216 256 231 141 252 201 222 260 182 303 265 309\n",
      " 186 203 183 220 209 258 227 261 221 205 240 318 298 564 277 214 248 255\n",
      " 207 223 288 160 394 315 246 244 270 195 196 254 126 313 262 215 193 271\n",
      " 268 267 210 295 306 178 242 180 228 149 278 253 342 157 286 229 284 224\n",
      " 206 167 230 335 276 353 225 330 290 172 305 188 282 185 326 274 164 307\n",
      " 249 341 407 217 174 281 289 322 299 300 293 184 409 259 200 327 237 218\n",
      " 319 166 311 169 187 176 241 131]\n",
      "\n",
      "\n",
      "****************************************\n",
      "Looking for fbs Column >> [1 0]\n",
      "\n",
      "\n",
      "****************************************\n",
      "Looking for restecg Column >> [0 1 2]\n",
      "\n",
      "\n",
      "****************************************\n",
      "Looking for thalach Column >> [150 187 172 178 163 148 153 173 162 174 160 139 171 144 158 114 151 161\n",
      " 179 137 157 123 152 168 140 188 125 170 165 142 180 143 182 156 115 149\n",
      " 146 175 186 185 159 130 190 132 147 154 202 166 164 184 122 169 138 111\n",
      " 145 194 131 133 155 167 192 121  96 126 105 181 116 108 129 120 112 128\n",
      " 109 113  99 177 141 136  97 127 103 124  88 195 106  95 117  71 118 134\n",
      "  90]\n",
      "\n",
      "\n",
      "****************************************\n",
      "Looking for exang Column >> [0 1]\n",
      "\n",
      "\n",
      "****************************************\n",
      "Looking for oldpeak Column >> [2.3 3.5 1.4 0.8 0.6 0.4 1.3 0.  0.5 1.6 1.2 0.2 1.8 1.  2.6 1.5 3.  2.4\n",
      " 0.1 1.9 4.2 1.1 2.  0.7 0.3 0.9 3.6 3.1 3.2 2.5 2.2 2.8 3.4 6.2 4.  5.6\n",
      " 2.9 2.1 3.8 4.4]\n",
      "\n",
      "\n",
      "****************************************\n",
      "Looking for slope Column >> [0 2 1]\n",
      "\n",
      "\n",
      "****************************************\n",
      "Looking for ca Column >> [0 2 1 3 4]\n",
      "\n",
      "\n",
      "****************************************\n",
      "Looking for thal Column >> [1 2 3 0]\n",
      "\n",
      "\n",
      "****************************************\n",
      "Looking for target Column >> [1 0]\n"
     ]
    }
   ],
   "source": [
    "\n",
    "for column_index in Heart_Disease_Dataset.columns:\n",
    "    print('\\n\\n****************************************')\n",
    "    print(\"Looking for\",f\"{column_index} \"+\"Column >> \"+f\"{Heart_Disease_Dataset[column_index].unique()}\")\n",
    "    if len(Heart_Disease_Dataset[column_index].unique()) <= 10:\n",
    "        All_Categorical_Value.append(column_index)\n",
    "    else:\n",
    "        All_Continous_Values.append(column_index)"
   ]
  },
  {
   "cell_type": "code",
   "execution_count": 8,
   "metadata": {},
   "outputs": [
    {
     "data": {
      "text/plain": [
       "['sex', 'cp', 'fbs', 'restecg', 'exang', 'slope', 'ca', 'thal', 'target']"
      ]
     },
     "execution_count": 8,
     "metadata": {},
     "output_type": "execute_result"
    }
   ],
   "source": [
    "All_Categorical_Value"
   ]
  },
  {
   "cell_type": "code",
   "execution_count": 9,
   "metadata": {},
   "outputs": [
    {
     "data": {
      "text/plain": [
       "['age', 'trestbps', 'chol', 'thalach', 'oldpeak']"
      ]
     },
     "execution_count": 9,
     "metadata": {},
     "output_type": "execute_result"
    }
   ],
   "source": [
    "All_Continous_Values"
   ]
  },
  {
   "cell_type": "code",
   "execution_count": 10,
   "metadata": {},
   "outputs": [
    {
     "data": {
      "image/png": "[encoded data removed]",
      "text/plain": [
       "<Figure size 2160x2160 with 9 Axes>"
      ]
     },
     "metadata": {
      "needs_background": "light"
     },
     "output_type": "display_data"
    }
   ],
   "source": [
    "plt.figure(figsize=(30, 30))\n",
    "\n",
    "for index, column_index in enumerate(All_Categorical_Value, 1):\n",
    "    plt.subplot(3, 3, index)\n",
    "    bins = Heart_Disease_Dataset[Heart_Disease_Dataset[\"target\"] == 0][column_index].hist(bins=35, color='blue', label='Have Heart Disease = NO')\n",
    "    Heart_Disease_Dataset[Heart_Disease_Dataset[\"target\"] == 1][column_index].hist(bins=35, color='red', label='Have Heart Disease = YES')\n",
    "    plt.legend()\n",
    "    plt.xlabel(column_index)\n",
    "   \n",
    "    "
   ]
  },
  {
   "cell_type": "markdown",
   "metadata": {},
   "source": [
    "- `cp` {chest pain}: People with cp equal to 1, 2, 3 are more likely to have heart disease than people with cp equal to 0\n",
    "- `restecg` {resting electrocardiographic results}: People with a value of 1 (signals heartbeat, can range from mild symptoms to severe Problems) are more likely to have heart disease. \n",
    "- `exang` {exercise-induced angina pectoris}: people with a value of 0 (No ==> exercise-induced angina pectoris) have more heart disease than people with a value of 1 (yes ==> exercise-induced angina pectoris)\n",
    "- `slope` {the slope of the maximum exercise- ST segment}: People with a slope value of 2 (downslopins: signs of a sick heart) are more likely to have heart disease than people with a slope value of 0 (upsloping: better heart rate during exercise) or 1 (flatsloping: minimal change (typical healthy heart) ).\n",
    "- `ca` {number of main vessels colored by bloom (0-3)} - the more blood moves, the better, so that people with approx. 0 suffer from heart diseases more often. {Thallium Stress Result} - People with this e Qual to 2 value (solid defect: used to be a defect, but now it's okay) are more likely to have heart disease."
   ]
  },
  {
   "cell_type": "code",
   "execution_count": 11,
   "metadata": {},
   "outputs": [
    {
     "data": {
      "image/png": "[encoded data removed]",
      "text/plain": [
       "<Figure size 2160x2160 with 5 Axes>"
      ]
     },
     "metadata": {
      "needs_background": "light"
     },
     "output_type": "display_data"
    }
   ],
   "source": [
    "plt.figure(figsize=(30, 30))\n",
    "\n",
    "for index, column in enumerate(All_Continous_Values, 1):\n",
    "    plt.subplot(3, 2, index)\n",
    "    Heart_Disease_Dataset[Heart_Disease_Dataset[\"target\"] == 0][column].hist(bins=35, color='blue', label='Have Heart Disease = NO')\n",
    "    Heart_Disease_Dataset[Heart_Disease_Dataset[\"target\"] == 1][column].hist(bins=35, color='red', label='Have Heart Disease = YES')\n",
    "    plt.legend()\n",
    "    plt.xlabel(column)"
   ]
  },
  {
   "cell_type": "markdown",
   "metadata": {},
   "source": [
    "- `trestbps` : resting blood pressure (in mm Hg on admission to the hospital) anything above 130-140 is typically cause for concern\n",
    "- `chol` {serum cholestoral in mg/dl} : above 200 is cause for concern.\n",
    "- `thalach` {maximum heart rate achieved} : People how acheived a maximum more than 140 are more likely to have heart disease.\n",
    "- `oldpeak` ST depression induced by exercise relative to rest looks at stress of heart during excercise unhealthy heart will stress more"
   ]
  },
  {
   "cell_type": "code",
   "execution_count": 12,
   "metadata": {},
   "outputs": [],
   "source": [
    "plt.rcParams['figure.figsize'] = (20, 20)"
   ]
  },
  {
   "cell_type": "code",
   "execution_count": 13,
   "metadata": {},
   "outputs": [
    {
     "data": {
      "text/plain": [
       "array([[<AxesSubplot:title={'center':'age'}>,\n",
       "        <AxesSubplot:title={'center':'sex'}>,\n",
       "        <AxesSubplot:title={'center':'cp'}>,\n",
       "        <AxesSubplot:title={'center':'trestbps'}>],\n",
       "       [<AxesSubplot:title={'center':'chol'}>,\n",
       "        <AxesSubplot:title={'center':'fbs'}>,\n",
       "        <AxesSubplot:title={'center':'restecg'}>,\n",
       "        <AxesSubplot:title={'center':'thalach'}>],\n",
       "       [<AxesSubplot:title={'center':'exang'}>,\n",
       "        <AxesSubplot:title={'center':'oldpeak'}>,\n",
       "        <AxesSubplot:title={'center':'slope'}>,\n",
       "        <AxesSubplot:title={'center':'ca'}>],\n",
       "       [<AxesSubplot:title={'center':'thal'}>,\n",
       "        <AxesSubplot:title={'center':'target'}>, <AxesSubplot:>,\n",
       "        <AxesSubplot:>]], dtype=object)"
      ]
     },
     "execution_count": 13,
     "metadata": {},
     "output_type": "execute_result"
    },
    {
     "data": {
      "image/png": "[encoded data removed]",
      "text/plain": [
       "<Figure size 1440x1440 with 16 Axes>"
      ]
     },
     "metadata": {
      "needs_background": "light"
     },
     "output_type": "display_data"
    }
   ],
   "source": [
    "Heart_Disease_Dataset.hist()"
   ]
  },
  {
   "cell_type": "code",
   "execution_count": 14,
   "metadata": {},
   "outputs": [
    {
     "data": {
      "text/plain": [
       "<matplotlib.colorbar.Colorbar at 0x2610ddafa30>"
      ]
     },
     "execution_count": 14,
     "metadata": {},
     "output_type": "execute_result"
    },
    {
     "data": {
      "image/png": "[encoded data removed]",
      "text/plain": [
       "<Figure size 1152x1152 with 2 Axes>"
      ]
     },
     "metadata": {
      "needs_background": "light"
     },
     "output_type": "display_data"
    }
   ],
   "source": [
    "plt.matshow(Heart_Disease_Dataset.corr())\n",
    "plt.yticks(np.arange(Heart_Disease_Dataset.shape[1]), Heart_Disease_Dataset.columns)\n",
    "plt.xticks(np.arange(Heart_Disease_Dataset.shape[1]), Heart_Disease_Dataset.columns)\n",
    "plt.colorbar()"
   ]
  },
  {
   "cell_type": "code",
   "execution_count": null,
   "metadata": {},
   "outputs": [],
   "source": []
  },
  {
   "cell_type": "code",
   "execution_count": null,
   "metadata": {},
   "outputs": [],
   "source": []
  },
  {
   "cell_type": "code",
   "execution_count": null,
   "metadata": {},
   "outputs": [],
   "source": []
  },
  {
   "cell_type": "code",
   "execution_count": null,
   "metadata": {},
   "outputs": [],
   "source": []
  },
  {
   "cell_type": "markdown",
   "metadata": {},
   "source": [
    "# Droping Target Value"
   ]
  },
  {
   "cell_type": "code",
   "execution_count": 15,
   "metadata": {},
   "outputs": [
    {
     "data": {
      "text/plain": [
       "<AxesSubplot:title={'center':'Correlation with target'}>"
      ]
     },
     "execution_count": 15,
     "metadata": {},
     "output_type": "execute_result"
    },
    {
     "data": {
      "image/png": "[encoded data removed]",
      "text/plain": [
       "<Figure size 864x576 with 1 Axes>"
      ]
     },
     "metadata": {
      "needs_background": "light"
     },
     "output_type": "display_data"
    }
   ],
   "source": [
    "Heart_Disease_Dataset.drop('target', axis=1).corrwith(Heart_Disease_Dataset.target).plot(kind='bar', grid=True, figsize=(12, 8), \n",
    "                                                   title=\"Correlation with target\")"
   ]
  },
  {
   "cell_type": "code",
   "execution_count": 16,
   "metadata": {},
   "outputs": [
    {
     "data": {
      "text/plain": [
       "<AxesSubplot:>"
      ]
     },
     "execution_count": 16,
     "metadata": {},
     "output_type": "execute_result"
    },
    {
     "data": {
      "image/png": "[encoded data removed]",
      "text/plain": [
       "<Figure size 1440x1440 with 1 Axes>"
      ]
     },
     "metadata": {
      "needs_background": "light"
     },
     "output_type": "display_data"
    }
   ],
   "source": [
    "Heart_Disease_Dataset.boxplot()"
   ]
  },
  {
   "cell_type": "code",
   "execution_count": 17,
   "metadata": {},
   "outputs": [
    {
     "data": {
      "text/plain": [
       "['sex', 'cp', 'fbs', 'restecg', 'exang', 'slope', 'ca', 'thal', 'target']"
      ]
     },
     "execution_count": 17,
     "metadata": {},
     "output_type": "execute_result"
    }
   ],
   "source": [
    "All_Categorical_Value"
   ]
  },
  {
   "cell_type": "code",
   "execution_count": null,
   "metadata": {},
   "outputs": [],
   "source": []
  },
  {
   "cell_type": "code",
   "execution_count": null,
   "metadata": {},
   "outputs": [],
   "source": []
  },
  {
   "cell_type": "code",
   "execution_count": null,
   "metadata": {},
   "outputs": [],
   "source": []
  },
  {
   "cell_type": "code",
   "execution_count": null,
   "metadata": {},
   "outputs": [],
   "source": []
  },
  {
   "cell_type": "code",
   "execution_count": null,
   "metadata": {},
   "outputs": [],
   "source": []
  },
  {
   "cell_type": "markdown",
   "metadata": {},
   "source": [
    "# Data Processing\n",
    "\n",
    "After exploring the dataset, I observed that I need to convert some categorical variables into dummy variables and scale all the values before training the Machine Learning models.\n",
    "First, I'll use the `get_dummies` method to create dummy columns for categorical variables."
   ]
  },
  {
   "cell_type": "code",
   "execution_count": 18,
   "metadata": {},
   "outputs": [],
   "source": [
    "All_Categorical_Value.remove('target')\n",
    "Heart_Disease_Dataset = pd.get_dummies(Heart_Disease_Dataset, columns = All_Categorical_Value)"
   ]
  },
  {
   "cell_type": "code",
   "execution_count": 19,
   "metadata": {},
   "outputs": [
    {
     "data": {
      "text/html": [
       "<div>\n",
       "<style scoped>\n",
       "    .dataframe tbody tr th:only-of-type {\n",
       "        vertical-align: middle;\n",
       "    }\n",
       "\n",
       "    .dataframe tbody tr th {\n",
       "        vertical-align: top;\n",
       "    }\n",
       "\n",
       "    .dataframe thead th {\n",
       "        text-align: right;\n",
       "    }\n",
       "</style>\n",
       "<table border=\"1\" class=\"dataframe\">\n",
       "  <thead>\n",
       "    <tr style=\"text-align: right;\">\n",
       "      <th></th>\n",
       "      <th>age</th>\n",
       "      <th>trestbps</th>\n",
       "      <th>chol</th>\n",
       "      <th>thalach</th>\n",
       "      <th>oldpeak</th>\n",
       "      <th>target</th>\n",
       "      <th>sex_0</th>\n",
       "      <th>sex_1</th>\n",
       "      <th>cp_0</th>\n",
       "      <th>cp_1</th>\n",
       "      <th>...</th>\n",
       "      <th>slope_2</th>\n",
       "      <th>ca_0</th>\n",
       "      <th>ca_1</th>\n",
       "      <th>ca_2</th>\n",
       "      <th>ca_3</th>\n",
       "      <th>ca_4</th>\n",
       "      <th>thal_0</th>\n",
       "      <th>thal_1</th>\n",
       "      <th>thal_2</th>\n",
       "      <th>thal_3</th>\n",
       "    </tr>\n",
       "  </thead>\n",
       "  <tbody>\n",
       "    <tr>\n",
       "      <th>0</th>\n",
       "      <td>63</td>\n",
       "      <td>145</td>\n",
       "      <td>233</td>\n",
       "      <td>150</td>\n",
       "      <td>2.30</td>\n",
       "      <td>1</td>\n",
       "      <td>0</td>\n",
       "      <td>1</td>\n",
       "      <td>0</td>\n",
       "      <td>0</td>\n",
       "      <td>...</td>\n",
       "      <td>0</td>\n",
       "      <td>1</td>\n",
       "      <td>0</td>\n",
       "      <td>0</td>\n",
       "      <td>0</td>\n",
       "      <td>0</td>\n",
       "      <td>0</td>\n",
       "      <td>1</td>\n",
       "      <td>0</td>\n",
       "      <td>0</td>\n",
       "    </tr>\n",
       "    <tr>\n",
       "      <th>1</th>\n",
       "      <td>37</td>\n",
       "      <td>130</td>\n",
       "      <td>250</td>\n",
       "      <td>187</td>\n",
       "      <td>3.50</td>\n",
       "      <td>1</td>\n",
       "      <td>0</td>\n",
       "      <td>1</td>\n",
       "      <td>0</td>\n",
       "      <td>0</td>\n",
       "      <td>...</td>\n",
       "      <td>0</td>\n",
       "      <td>1</td>\n",
       "      <td>0</td>\n",
       "      <td>0</td>\n",
       "      <td>0</td>\n",
       "      <td>0</td>\n",
       "      <td>0</td>\n",
       "      <td>0</td>\n",
       "      <td>1</td>\n",
       "      <td>0</td>\n",
       "    </tr>\n",
       "    <tr>\n",
       "      <th>2</th>\n",
       "      <td>41</td>\n",
       "      <td>130</td>\n",
       "      <td>204</td>\n",
       "      <td>172</td>\n",
       "      <td>1.40</td>\n",
       "      <td>1</td>\n",
       "      <td>1</td>\n",
       "      <td>0</td>\n",
       "      <td>0</td>\n",
       "      <td>1</td>\n",
       "      <td>...</td>\n",
       "      <td>1</td>\n",
       "      <td>1</td>\n",
       "      <td>0</td>\n",
       "      <td>0</td>\n",
       "      <td>0</td>\n",
       "      <td>0</td>\n",
       "      <td>0</td>\n",
       "      <td>0</td>\n",
       "      <td>1</td>\n",
       "      <td>0</td>\n",
       "    </tr>\n",
       "    <tr>\n",
       "      <th>3</th>\n",
       "      <td>56</td>\n",
       "      <td>120</td>\n",
       "      <td>236</td>\n",
       "      <td>178</td>\n",
       "      <td>0.80</td>\n",
       "      <td>1</td>\n",
       "      <td>0</td>\n",
       "      <td>1</td>\n",
       "      <td>0</td>\n",
       "      <td>1</td>\n",
       "      <td>...</td>\n",
       "      <td>1</td>\n",
       "      <td>1</td>\n",
       "      <td>0</td>\n",
       "      <td>0</td>\n",
       "      <td>0</td>\n",
       "      <td>0</td>\n",
       "      <td>0</td>\n",
       "      <td>0</td>\n",
       "      <td>1</td>\n",
       "      <td>0</td>\n",
       "    </tr>\n",
       "    <tr>\n",
       "      <th>4</th>\n",
       "      <td>57</td>\n",
       "      <td>120</td>\n",
       "      <td>354</td>\n",
       "      <td>163</td>\n",
       "      <td>0.60</td>\n",
       "      <td>1</td>\n",
       "      <td>1</td>\n",
       "      <td>0</td>\n",
       "      <td>1</td>\n",
       "      <td>0</td>\n",
       "      <td>...</td>\n",
       "      <td>1</td>\n",
       "      <td>1</td>\n",
       "      <td>0</td>\n",
       "      <td>0</td>\n",
       "      <td>0</td>\n",
       "      <td>0</td>\n",
       "      <td>0</td>\n",
       "      <td>0</td>\n",
       "      <td>1</td>\n",
       "      <td>0</td>\n",
       "    </tr>\n",
       "  </tbody>\n",
       "</table>\n",
       "<p>5 rows × 31 columns</p>\n",
       "</div>"
      ],
      "text/plain": [
       "   age  trestbps  chol  thalach  oldpeak  target  sex_0  sex_1  cp_0  cp_1  \\\n",
       "0   63       145   233      150     2.30       1      0      1     0     0   \n",
       "1   37       130   250      187     3.50       1      0      1     0     0   \n",
       "2   41       130   204      172     1.40       1      1      0     0     1   \n",
       "3   56       120   236      178     0.80       1      0      1     0     1   \n",
       "4   57       120   354      163     0.60       1      1      0     1     0   \n",
       "\n",
       "   ...  slope_2  ca_0  ca_1  ca_2  ca_3  ca_4  thal_0  thal_1  thal_2  thal_3  \n",
       "0  ...        0     1     0     0     0     0       0       1       0       0  \n",
       "1  ...        0     1     0     0     0     0       0       0       1       0  \n",
       "2  ...        1     1     0     0     0     0       0       0       1       0  \n",
       "3  ...        1     1     0     0     0     0       0       0       1       0  \n",
       "4  ...        1     1     0     0     0     0       0       0       1       0  \n",
       "\n",
       "[5 rows x 31 columns]"
      ]
     },
     "execution_count": 19,
     "metadata": {},
     "output_type": "execute_result"
    }
   ],
   "source": [
    "Heart_Disease_Dataset.head()"
   ]
  },
  {
   "cell_type": "code",
   "execution_count": 20,
   "metadata": {},
   "outputs": [
    {
     "name": "stdout",
     "output_type": "stream",
     "text": [
      "Index(['age', 'trestbps', 'chol', 'thalach', 'oldpeak', 'target', 'sex_0',\n",
      "       'sex_1', 'cp_0', 'cp_1', 'cp_2', 'cp_3', 'fbs_0', 'fbs_1', 'restecg_0',\n",
      "       'restecg_1', 'restecg_2', 'exang_0', 'exang_1', 'slope_0', 'slope_1',\n",
      "       'slope_2', 'ca_0', 'ca_1', 'ca_2', 'ca_3', 'ca_4', 'thal_0', 'thal_1',\n",
      "       'thal_2', 'thal_3'],\n",
      "      dtype='object')\n"
     ]
    }
   ],
   "source": [
    "print(Heart_Disease_Dataset.columns)"
   ]
  },
  {
   "cell_type": "code",
   "execution_count": 21,
   "metadata": {},
   "outputs": [],
   "source": [
    "from sklearn.preprocessing import StandardScaler\n",
    "\n",
    "scaler = StandardScaler()\n",
    "conv_col_to_scale = ['age', 'trestbps', 'chol', 'thalach', 'oldpeak']\n",
    "Heart_Disease_Dataset[conv_col_to_scale] = scaler.fit_transform(Heart_Disease_Dataset[conv_col_to_scale])"
   ]
  },
  {
   "cell_type": "code",
   "execution_count": 22,
   "metadata": {},
   "outputs": [
    {
     "data": {
      "text/html": [
       "<div>\n",
       "<style scoped>\n",
       "    .dataframe tbody tr th:only-of-type {\n",
       "        vertical-align: middle;\n",
       "    }\n",
       "\n",
       "    .dataframe tbody tr th {\n",
       "        vertical-align: top;\n",
       "    }\n",
       "\n",
       "    .dataframe thead th {\n",
       "        text-align: right;\n",
       "    }\n",
       "</style>\n",
       "<table border=\"1\" class=\"dataframe\">\n",
       "  <thead>\n",
       "    <tr style=\"text-align: right;\">\n",
       "      <th></th>\n",
       "      <th>age</th>\n",
       "      <th>trestbps</th>\n",
       "      <th>chol</th>\n",
       "      <th>thalach</th>\n",
       "      <th>oldpeak</th>\n",
       "      <th>target</th>\n",
       "      <th>sex_0</th>\n",
       "      <th>sex_1</th>\n",
       "      <th>cp_0</th>\n",
       "      <th>cp_1</th>\n",
       "      <th>...</th>\n",
       "      <th>slope_2</th>\n",
       "      <th>ca_0</th>\n",
       "      <th>ca_1</th>\n",
       "      <th>ca_2</th>\n",
       "      <th>ca_3</th>\n",
       "      <th>ca_4</th>\n",
       "      <th>thal_0</th>\n",
       "      <th>thal_1</th>\n",
       "      <th>thal_2</th>\n",
       "      <th>thal_3</th>\n",
       "    </tr>\n",
       "  </thead>\n",
       "  <tbody>\n",
       "    <tr>\n",
       "      <th>0</th>\n",
       "      <td>0.95</td>\n",
       "      <td>0.76</td>\n",
       "      <td>-0.26</td>\n",
       "      <td>0.02</td>\n",
       "      <td>1.09</td>\n",
       "      <td>1</td>\n",
       "      <td>0</td>\n",
       "      <td>1</td>\n",
       "      <td>0</td>\n",
       "      <td>0</td>\n",
       "      <td>...</td>\n",
       "      <td>0</td>\n",
       "      <td>1</td>\n",
       "      <td>0</td>\n",
       "      <td>0</td>\n",
       "      <td>0</td>\n",
       "      <td>0</td>\n",
       "      <td>0</td>\n",
       "      <td>1</td>\n",
       "      <td>0</td>\n",
       "      <td>0</td>\n",
       "    </tr>\n",
       "    <tr>\n",
       "      <th>1</th>\n",
       "      <td>-1.91</td>\n",
       "      <td>-0.09</td>\n",
       "      <td>0.07</td>\n",
       "      <td>1.64</td>\n",
       "      <td>2.12</td>\n",
       "      <td>1</td>\n",
       "      <td>0</td>\n",
       "      <td>1</td>\n",
       "      <td>0</td>\n",
       "      <td>0</td>\n",
       "      <td>...</td>\n",
       "      <td>0</td>\n",
       "      <td>1</td>\n",
       "      <td>0</td>\n",
       "      <td>0</td>\n",
       "      <td>0</td>\n",
       "      <td>0</td>\n",
       "      <td>0</td>\n",
       "      <td>0</td>\n",
       "      <td>1</td>\n",
       "      <td>0</td>\n",
       "    </tr>\n",
       "    <tr>\n",
       "      <th>2</th>\n",
       "      <td>-1.47</td>\n",
       "      <td>-0.09</td>\n",
       "      <td>-0.82</td>\n",
       "      <td>0.98</td>\n",
       "      <td>0.31</td>\n",
       "      <td>1</td>\n",
       "      <td>1</td>\n",
       "      <td>0</td>\n",
       "      <td>0</td>\n",
       "      <td>1</td>\n",
       "      <td>...</td>\n",
       "      <td>1</td>\n",
       "      <td>1</td>\n",
       "      <td>0</td>\n",
       "      <td>0</td>\n",
       "      <td>0</td>\n",
       "      <td>0</td>\n",
       "      <td>0</td>\n",
       "      <td>0</td>\n",
       "      <td>1</td>\n",
       "      <td>0</td>\n",
       "    </tr>\n",
       "    <tr>\n",
       "      <th>3</th>\n",
       "      <td>0.18</td>\n",
       "      <td>-0.66</td>\n",
       "      <td>-0.20</td>\n",
       "      <td>1.24</td>\n",
       "      <td>-0.21</td>\n",
       "      <td>1</td>\n",
       "      <td>0</td>\n",
       "      <td>1</td>\n",
       "      <td>0</td>\n",
       "      <td>1</td>\n",
       "      <td>...</td>\n",
       "      <td>1</td>\n",
       "      <td>1</td>\n",
       "      <td>0</td>\n",
       "      <td>0</td>\n",
       "      <td>0</td>\n",
       "      <td>0</td>\n",
       "      <td>0</td>\n",
       "      <td>0</td>\n",
       "      <td>1</td>\n",
       "      <td>0</td>\n",
       "    </tr>\n",
       "    <tr>\n",
       "      <th>4</th>\n",
       "      <td>0.29</td>\n",
       "      <td>-0.66</td>\n",
       "      <td>2.08</td>\n",
       "      <td>0.59</td>\n",
       "      <td>-0.38</td>\n",
       "      <td>1</td>\n",
       "      <td>1</td>\n",
       "      <td>0</td>\n",
       "      <td>1</td>\n",
       "      <td>0</td>\n",
       "      <td>...</td>\n",
       "      <td>1</td>\n",
       "      <td>1</td>\n",
       "      <td>0</td>\n",
       "      <td>0</td>\n",
       "      <td>0</td>\n",
       "      <td>0</td>\n",
       "      <td>0</td>\n",
       "      <td>0</td>\n",
       "      <td>1</td>\n",
       "      <td>0</td>\n",
       "    </tr>\n",
       "  </tbody>\n",
       "</table>\n",
       "<p>5 rows × 31 columns</p>\n",
       "</div>"
      ],
      "text/plain": [
       "    age  trestbps  chol  thalach  oldpeak  target  sex_0  sex_1  cp_0  cp_1  \\\n",
       "0  0.95      0.76 -0.26     0.02     1.09       1      0      1     0     0   \n",
       "1 -1.91     -0.09  0.07     1.64     2.12       1      0      1     0     0   \n",
       "2 -1.47     -0.09 -0.82     0.98     0.31       1      1      0     0     1   \n",
       "3  0.18     -0.66 -0.20     1.24    -0.21       1      0      1     0     1   \n",
       "4  0.29     -0.66  2.08     0.59    -0.38       1      1      0     1     0   \n",
       "\n",
       "   ...  slope_2  ca_0  ca_1  ca_2  ca_3  ca_4  thal_0  thal_1  thal_2  thal_3  \n",
       "0  ...        0     1     0     0     0     0       0       1       0       0  \n",
       "1  ...        0     1     0     0     0     0       0       0       1       0  \n",
       "2  ...        1     1     0     0     0     0       0       0       1       0  \n",
       "3  ...        1     1     0     0     0     0       0       0       1       0  \n",
       "4  ...        1     1     0     0     0     0       0       0       1       0  \n",
       "\n",
       "[5 rows x 31 columns]"
      ]
     },
     "execution_count": 22,
     "metadata": {},
     "output_type": "execute_result"
    }
   ],
   "source": [
    "Heart_Disease_Dataset.head()"
   ]
  },
  {
   "cell_type": "code",
   "execution_count": null,
   "metadata": {},
   "outputs": [],
   "source": []
  },
  {
   "cell_type": "code",
   "execution_count": null,
   "metadata": {},
   "outputs": [],
   "source": []
  },
  {
   "cell_type": "code",
   "execution_count": null,
   "metadata": {},
   "outputs": [],
   "source": []
  },
  {
   "cell_type": "code",
   "execution_count": null,
   "metadata": {},
   "outputs": [],
   "source": []
  },
  {
   "cell_type": "code",
   "execution_count": null,
   "metadata": {},
   "outputs": [],
   "source": []
  },
  {
   "cell_type": "markdown",
   "metadata": {},
   "source": [
    "#  Applying machine learning algorithms"
   ]
  },
  {
   "cell_type": "code",
   "execution_count": 23,
   "metadata": {},
   "outputs": [],
   "source": [
    "from sklearn.metrics import accuracy_score, confusion_matrix, classification_report\n",
    "from sklearn.model_selection import train_test_split\n"
   ]
  },
  {
   "cell_type": "code",
   "execution_count": 24,
   "metadata": {},
   "outputs": [],
   "source": [
    "\n",
    "def print_training_accuracy_score(algorithm_classifier, X_train, y_train):\n",
    "    prediction = algorithm_classifier.predict(X_train)\n",
    "    clf_report = classification_report(y_train, prediction, output_dict=True)\n",
    "    clf_report_df = pd.DataFrame(clf_report)\n",
    "    print(\"\\n\\n >> Train Result:\\n**********************************\\n\")\n",
    "    print(f\" >> Accuracy : {accuracy_score(y_train, prediction) * 100:.2f}%\")\n",
    "    print(\"---------------------------------------------------------------\")\n",
    "    print(f\"\\n >> CLASSIFICATION REPORT:\\n{clf_report_df}\")\n",
    "        \n",
    "        \n",
    "        \n",
    "        \n",
    "def print_testing_accuracy_score(algorithm_classifier, X_test, y_test):\n",
    "    prediction = algorithm_classifier.predict(X_test)\n",
    "    clf_report = classification_report(y_test, prediction, output_dict=True)\n",
    "    clf_report_df = pd.DataFrame(clf_report)\n",
    "    print(\"\\n\\n\\n >> Testing Result:\\n**********************************\\n\")\n",
    "    print(f\" >> Accuracy : {accuracy_score(y_test, prediction) * 100:.2f}%\")\n",
    "    print(\"---------------------------------------------------------------\")\n",
    "    print(f\"\\n >> CLASSIFICATION REPORT:\\n\\n{clf_report_df}\")\n",
    "\n"
   ]
  },
  {
   "cell_type": "code",
   "execution_count": 25,
   "metadata": {},
   "outputs": [],
   "source": [
    "\n",
    "X = Heart_Disease_Dataset.drop('target', axis=1)\n",
    "y = Heart_Disease_Dataset.target\n",
    "\n",
    "X_train, X_test, y_train, y_test = train_test_split(X, y, test_size=0.3, random_state=42)"
   ]
  },
  {
   "cell_type": "code",
   "execution_count": null,
   "metadata": {},
   "outputs": [],
   "source": []
  },
  {
   "cell_type": "code",
   "execution_count": null,
   "metadata": {},
   "outputs": [],
   "source": []
  },
  {
   "cell_type": "code",
   "execution_count": null,
   "metadata": {},
   "outputs": [],
   "source": []
  },
  {
   "cell_type": "code",
   "execution_count": null,
   "metadata": {},
   "outputs": [],
   "source": []
  },
  {
   "cell_type": "code",
   "execution_count": null,
   "metadata": {},
   "outputs": [],
   "source": []
  },
  {
   "cell_type": "markdown",
   "metadata": {},
   "source": [
    "## 1. Logistic Regression"
   ]
  },
  {
   "cell_type": "code",
   "execution_count": 26,
   "metadata": {},
   "outputs": [
    {
     "name": "stdout",
     "output_type": "stream",
     "text": [
      "\n",
      "\n",
      " >> Train Result:\n",
      "**********************************\n",
      "\n",
      " >> Accuracy : 86.29%\n",
      "---------------------------------------------------------------\n",
      "\n",
      " >> CLASSIFICATION REPORT:\n",
      "               0      1  accuracy  macro avg  weighted avg\n",
      "precision   0.86   0.86      0.86       0.86          0.86\n",
      "recall      0.83   0.89      0.86       0.86          0.86\n",
      "f1-score    0.85   0.88      0.86       0.86          0.86\n",
      "support   193.00 230.00      0.86     423.00        423.00\n",
      "\n",
      "\n",
      "\n",
      " >> Testing Result:\n",
      "**********************************\n",
      "\n",
      " >> Accuracy : 88.46%\n",
      "---------------------------------------------------------------\n",
      "\n",
      " >> CLASSIFICATION REPORT:\n",
      "\n",
      "              0      1  accuracy  macro avg  weighted avg\n",
      "precision  0.92   0.86      0.88       0.89          0.89\n",
      "recall     0.82   0.94      0.88       0.88          0.88\n",
      "f1-score   0.86   0.90      0.88       0.88          0.88\n",
      "support   82.00 100.00      0.88     182.00        182.00\n"
     ]
    }
   ],
   "source": [
    "from sklearn.linear_model import LogisticRegression\n",
    "\n",
    "lr_clf = LogisticRegression(solver='liblinear')\n",
    "lr_clf.fit(X_train, y_train)\n",
    "\n",
    "print_training_accuracy_score(lr_clf, X_train, y_train)\n",
    "print_testing_accuracy_score(lr_clf, X_test, y_test)"
   ]
  },
  {
   "cell_type": "code",
   "execution_count": null,
   "metadata": {},
   "outputs": [],
   "source": []
  },
  {
   "cell_type": "code",
   "execution_count": null,
   "metadata": {},
   "outputs": [],
   "source": []
  },
  {
   "cell_type": "code",
   "execution_count": null,
   "metadata": {},
   "outputs": [],
   "source": []
  },
  {
   "cell_type": "code",
   "execution_count": null,
   "metadata": {},
   "outputs": [],
   "source": []
  },
  {
   "cell_type": "markdown",
   "metadata": {},
   "source": [
    "##  2. K-nearest neighbors"
   ]
  },
  {
   "cell_type": "code",
   "execution_count": 27,
   "metadata": {},
   "outputs": [
    {
     "name": "stdout",
     "output_type": "stream",
     "text": [
      "\n",
      "\n",
      " >> Train Result:\n",
      "**********************************\n",
      "\n",
      " >> Accuracy : 85.58%\n",
      "---------------------------------------------------------------\n",
      "\n",
      " >> CLASSIFICATION REPORT:\n",
      "               0      1  accuracy  macro avg  weighted avg\n",
      "precision   0.85   0.86      0.86       0.86          0.86\n",
      "recall      0.82   0.88      0.86       0.85          0.86\n",
      "f1-score    0.84   0.87      0.86       0.85          0.86\n",
      "support   193.00 230.00      0.86     423.00        423.00\n",
      "\n",
      "\n",
      "\n",
      " >> Testing Result:\n",
      "**********************************\n",
      "\n",
      " >> Accuracy : 85.71%\n",
      "---------------------------------------------------------------\n",
      "\n",
      " >> CLASSIFICATION REPORT:\n",
      "\n",
      "              0      1  accuracy  macro avg  weighted avg\n",
      "precision  0.88   0.84      0.86       0.86          0.86\n",
      "recall     0.79   0.91      0.86       0.85          0.86\n",
      "f1-score   0.83   0.87      0.86       0.85          0.86\n",
      "support   82.00 100.00      0.86     182.00        182.00\n"
     ]
    }
   ],
   "source": [
    "from sklearn.neighbors import KNeighborsClassifier\n",
    "\n",
    "knn_clf = KNeighborsClassifier()\n",
    "knn_clf.fit(X_train, y_train)\n",
    "\n",
    "print_training_accuracy_score(knn_clf, X_train, y_train)\n",
    "print_testing_accuracy_score(knn_clf, X_test, y_test)"
   ]
  },
  {
   "cell_type": "code",
   "execution_count": null,
   "metadata": {},
   "outputs": [],
   "source": []
  },
  {
   "cell_type": "code",
   "execution_count": null,
   "metadata": {},
   "outputs": [],
   "source": []
  },
  {
   "cell_type": "code",
   "execution_count": null,
   "metadata": {},
   "outputs": [],
   "source": []
  },
  {
   "cell_type": "code",
   "execution_count": null,
   "metadata": {},
   "outputs": [],
   "source": []
  },
  {
   "cell_type": "code",
   "execution_count": null,
   "metadata": {},
   "outputs": [],
   "source": []
  },
  {
   "cell_type": "markdown",
   "metadata": {},
   "source": [
    "## 3. Support Vector machine"
   ]
  },
  {
   "cell_type": "code",
   "execution_count": 28,
   "metadata": {},
   "outputs": [
    {
     "name": "stdout",
     "output_type": "stream",
     "text": [
      "\n",
      "\n",
      " >> Train Result:\n",
      "**********************************\n",
      "\n",
      " >> Accuracy : 93.14%\n",
      "---------------------------------------------------------------\n",
      "\n",
      " >> CLASSIFICATION REPORT:\n",
      "               0      1  accuracy  macro avg  weighted avg\n",
      "precision   0.94   0.92      0.93       0.93          0.93\n",
      "recall      0.91   0.95      0.93       0.93          0.93\n",
      "f1-score    0.92   0.94      0.93       0.93          0.93\n",
      "support   193.00 230.00      0.93     423.00        423.00\n",
      "\n",
      "\n",
      "\n",
      " >> Testing Result:\n",
      "**********************************\n",
      "\n",
      " >> Accuracy : 93.41%\n",
      "---------------------------------------------------------------\n",
      "\n",
      " >> CLASSIFICATION REPORT:\n",
      "\n",
      "              0      1  accuracy  macro avg  weighted avg\n",
      "precision  0.94   0.93      0.93       0.93          0.93\n",
      "recall     0.91   0.95      0.93       0.93          0.93\n",
      "f1-score   0.93   0.94      0.93       0.93          0.93\n",
      "support   82.00 100.00      0.93     182.00        182.00\n"
     ]
    }
   ],
   "source": [
    "from sklearn.svm import SVC\n",
    "\n",
    "svm_clf = SVC(kernel='rbf', gamma=0.1, C=1.0)\n",
    "svm_clf.fit(X_train, y_train)\n",
    "\n",
    "print_training_accuracy_score(svm_clf, X_train, y_train)\n",
    "print_testing_accuracy_score(svm_clf, X_test, y_test)"
   ]
  },
  {
   "cell_type": "code",
   "execution_count": null,
   "metadata": {},
   "outputs": [],
   "source": []
  },
  {
   "cell_type": "code",
   "execution_count": null,
   "metadata": {},
   "outputs": [],
   "source": []
  },
  {
   "cell_type": "code",
   "execution_count": null,
   "metadata": {},
   "outputs": [],
   "source": []
  },
  {
   "cell_type": "code",
   "execution_count": null,
   "metadata": {},
   "outputs": [],
   "source": []
  },
  {
   "cell_type": "markdown",
   "metadata": {},
   "source": [
    "## 4. Random Forest"
   ]
  },
  {
   "cell_type": "code",
   "execution_count": 29,
   "metadata": {},
   "outputs": [
    {
     "name": "stdout",
     "output_type": "stream",
     "text": [
      "\n",
      "\n",
      " >> Train Result:\n",
      "**********************************\n",
      "\n",
      " >> Accuracy : 100.00%\n",
      "---------------------------------------------------------------\n",
      "\n",
      " >> CLASSIFICATION REPORT:\n",
      "               0      1  accuracy  macro avg  weighted avg\n",
      "precision   1.00   1.00      1.00       1.00          1.00\n",
      "recall      1.00   1.00      1.00       1.00          1.00\n",
      "f1-score    1.00   1.00      1.00       1.00          1.00\n",
      "support   193.00 230.00      1.00     423.00        423.00\n",
      "\n",
      "\n",
      "\n",
      " >> Testing Result:\n",
      "**********************************\n",
      "\n",
      " >> Accuracy : 96.70%\n",
      "---------------------------------------------------------------\n",
      "\n",
      " >> CLASSIFICATION REPORT:\n",
      "\n",
      "              0      1  accuracy  macro avg  weighted avg\n",
      "precision  0.97   0.96      0.97       0.97          0.97\n",
      "recall     0.95   0.98      0.97       0.97          0.97\n",
      "f1-score   0.96   0.97      0.97       0.97          0.97\n",
      "support   82.00 100.00      0.97     182.00        182.00\n"
     ]
    }
   ],
   "source": [
    "from sklearn.ensemble import RandomForestClassifier\n",
    "from sklearn.model_selection import RandomizedSearchCV\n",
    "\n",
    "rf_clf = RandomForestClassifier(n_estimators=1000, random_state=42)\n",
    "rf_clf.fit(X_train, y_train)\n",
    "\n",
    "print_training_accuracy_score(rf_clf, X_train, y_train)\n",
    "print_testing_accuracy_score(rf_clf, X_test, y_test)"
   ]
  },
  {
   "cell_type": "code",
   "execution_count": null,
   "metadata": {},
   "outputs": [],
   "source": []
  },
  {
   "cell_type": "code",
   "execution_count": null,
   "metadata": {},
   "outputs": [],
   "source": []
  },
  {
   "cell_type": "code",
   "execution_count": null,
   "metadata": {},
   "outputs": [],
   "source": []
  },
  {
   "cell_type": "code",
   "execution_count": null,
   "metadata": {},
   "outputs": [],
   "source": []
  },
  {
   "cell_type": "code",
   "execution_count": null,
   "metadata": {},
   "outputs": [],
   "source": []
  }
 ],
 "metadata": {
  "kernelspec": {
   "display_name": "Python 3",
   "language": "python",
   "name": "python3"
  },
  "language_info": {
   "codemirror_mode": {
    "name": "ipython",
    "version": 3
   },
   "file_extension": ".py",
   "mimetype": "text/x-python",
   "name": "python",
   "nbconvert_exporter": "python",
   "pygments_lexer": "ipython3",
   "version": "3.8.5"
  }
 },
 "nbformat": 4,
 "nbformat_minor": 4
}
